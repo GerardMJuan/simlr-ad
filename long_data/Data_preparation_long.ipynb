{
 "cells": [
  {
   "cell_type": "markdown",
   "metadata": {},
   "source": [
    "# Longitudinal data preparation\n",
    "This script:\n",
    "* Selects only metabolonomics (protein markers)\n",
    "* Deletes subjects that do not have a marker acquisition for m0 and m12\n",
    "* Saves to disk in the same format so that CIMLR can work seameslly"
   ]
  },
  {
   "cell_type": "code",
   "execution_count": 19,
   "metadata": {},
   "outputs": [],
   "source": [
    "# do imports\n",
    "import pandas as pd\n",
    "import numpy as np\n",
    "\n",
    "# Load relevant tables\n",
    "# ADNIMERGE includes general information about the patients\n",
    "# Not sure I will need it, but whatever\n",
    "df_data = pd.read_csv('ADNIMERGE.csv')\n",
    "df_plasma_full = pd.read_csv('adni_plasma_qc_multiplex_11Nov2010.csv')"
   ]
  },
  {
   "cell_type": "markdown",
   "metadata": {},
   "source": [
    "Prepare the data in the same format that we know and love:"
   ]
  },
  {
   "cell_type": "code",
   "execution_count": 24,
   "metadata": {},
   "outputs": [
    {
     "name": "stdout",
     "output_type": "stream",
     "text": [
      "For baseline!\n",
      "Total samples: 496\n",
      "AD samples: 97\n",
      "LMCI samples: 345\n",
      "CN samples: 54\n",
      "For followup!\n",
      "Total samples: 496\n",
      "AD samples: 97\n",
      "LMCI samples: 345\n",
      "CN samples: 54\n"
     ]
    }
   ],
   "source": [
    "# Select interesting columns\n",
    "info = [\"RID\", \"PTID\", \"MMSE\", \"VISCODE\", \"EXAMDATE\",\n",
    "        \"AGE\", \"PTGENDER\", \"APOE4\", \"DX_bl\", \"PTEDUCAT\"]\n",
    "\n",
    "df_data = df_data[info].copy()\n",
    "\n",
    "# Select only baseline data\n",
    "df_data = df_data[(df_data.VISCODE == \"bl\")]\n",
    "\n",
    "# Drop -1 and -4 missing indicators\n",
    "df_data = df_data.replace(to_replace=[-1, -4], value=[np.nan, np.nan]).dropna()\n",
    "\n",
    "# ADD Plasma biomarkers\n",
    "# Drop empty columns\n",
    "df_plasma_full = df_plasma_full.replace(to_replace=['.'], value=[np.nan])\n",
    "df_plasma_full = df_plasma_full.dropna(axis=1, how='any')\n",
    "\n",
    "# Create two new datasets, one with m0, one with m12\n",
    "df_plasma_bl = df_plasma_full[df_plasma_full.Visit_Code == 'bl']\n",
    "df_plasma_m12 = df_plasma_full[df_plasma_full.Visit_Code == 'm12']\n",
    "\n",
    "# Add all colums to bl\n",
    "df_data_bl = pd.merge(df_data, df_plasma_bl.iloc[:, 1:], how='inner', on=\"RID\")\n",
    "del df_data_bl['Visit_Code']\n",
    "del df_data_bl['RBM Sample ID']\n",
    "del df_data_bl['Sample_Received_Date']\n",
    "\n",
    "# Drop missing data, print some statistics of the data\n",
    "df_data_bl = df_data_bl.dropna()\n",
    "\n",
    "# Add all colums to m12\n",
    "df_data_m12 = pd.merge(df_data, df_plasma_m12.iloc[:, 1:], how='inner', on=\"RID\")\n",
    "del df_data_m12['Visit_Code']\n",
    "del df_data_m12['RBM Sample ID']\n",
    "del df_data_m12['Sample_Received_Date']\n",
    "\n",
    "# Drop missing data\n",
    "df_data_m12 = df_data_m12.dropna()\n",
    "df_data_m12['VISCODE'] = [\"m12\"] * len(df_data_m12)\n",
    "\n",
    "# Remove from m0 the subjects that do not have a m12\n",
    "df_data_bl = df_data_bl[df_data_bl['RID'].isin(df_data_m12.RID)]\n",
    "\n",
    "# Sanity check\n",
    "print('For baseline!')\n",
    "print('Total samples: ' + str(len(df_data_bl)))\n",
    "print(\"AD samples: \" + str(len(df_data_bl[df_data_bl.DX_bl == 'AD'])))\n",
    "print(\"LMCI samples: \" + str(len(df_data_bl[df_data_bl.DX_bl == 'LMCI'])))\n",
    "print(\"CN samples: \" + str(len(df_data_bl[df_data_bl.DX_bl == 'CN'])))\n",
    "\n",
    "print('For followup!')\n",
    "print('Total samples: ' + str(len(df_data_m12)))\n",
    "print(\"AD samples: \" + str(len(df_data_m12[df_data_m12.DX_bl == 'AD'])))\n",
    "print(\"LMCI samples: \" + str(len(df_data_m12[df_data_m12.DX_bl == 'LMCI'])))\n",
    "print(\"CN samples: \" + str(len(df_data_m12[df_data_m12.DX_bl == 'CN'])))\n",
    "\n",
    "df_data_m12[df_data_m12.DX_bl == 'LMCI'].to_csv('test.csv')\n",
    "df_data_bl[df_data_bl.DX_bl == 'LMCI'].to_csv('test2.csv')"
   ]
  },
  {
   "cell_type": "markdown",
   "metadata": {},
   "source": [
    "Create new dataset with gradient, substracting m12 from m0"
   ]
  },
  {
   "cell_type": "code",
   "execution_count": 28,
   "metadata": {},
   "outputs": [],
   "source": [
    "cov_names = df_data_bl.iloc[:, 5:].columns.values.tolist()\n",
    "cov_names.remove('DX_bl')\n",
    "cov_names.remove('APOE4')\n",
    "cov_names.remove('PTGENDER')\n",
    "cov_names.remove('AGE')\n",
    "cov_names.remove('PTEDUCAT')\n",
    "\n",
    "df_data_grad = df_data_bl\n",
    "df_data_grad[cov_names] = df_data_m12[cov_names] - df_data_bl[cov_names]\n",
    "df_data_grad.to_csv('covariates_long.csv')\n",
    "df_data_grad['PTID'].to_csv('subjects_experiment_v2.csv')"
   ]
  },
  {
   "cell_type": "code",
   "execution_count": null,
   "metadata": {},
   "outputs": [],
   "source": []
  }
 ],
 "metadata": {
  "kernelspec": {
   "display_name": "Python 3",
   "language": "python",
   "name": "python3"
  },
  "language_info": {
   "codemirror_mode": {
    "name": "ipython",
    "version": 3
   },
   "file_extension": ".py",
   "mimetype": "text/x-python",
   "name": "python",
   "nbconvert_exporter": "python",
   "pygments_lexer": "ipython3",
   "version": "3.6.4"
  }
 },
 "nbformat": 4,
 "nbformat_minor": 2
}
