{
 "cells": [
  {
   "cell_type": "markdown",
   "metadata": {},
   "source": [
    "# Biospecimen data preparation\n",
    "This script prepares and combines available biospecimen markers data from multiple sources into a single file, and also applies any needed preprocessing steps to the various types of data\n",
    "Output should be a file named biospecimen_data.csv with:\n",
    "\n",
    "| RID | DX | Gender | Age | Ed. level | all the other markers... |\n"
   ]
  },
  {
   "cell_type": "code",
   "execution_count": null,
   "metadata": {},
   "outputs": [],
   "source": [
    "# do imports\n",
    "import pandas as pd\n",
    "import numpy as np"
   ]
  },
  {
   "cell_type": "markdown",
   "metadata": {},
   "source": [
    "**Load all relevant data tables**\n",
    "\n",
    "First, we load all relevant tables in pandas DataFrames."
   ]
  },
  {
   "cell_type": "code",
   "execution_count": null,
   "metadata": {},
   "outputs": [],
   "source": [
    "# ADNIMERGE includes general information about the patients\n",
    "# Not sure I will need it, but whatever\n",
    "df_data = pd.read_csv('ADNIMERGE.csv')\n",
    "df_plasma_full = pd.read_csv('adni_plasma_qc_multiplex_11Nov2010.csv')\n",
    "\n",
    "# NFL data\n",
    "df_nfl=pd.read_csv('ADNI_BLENNOWPLASMANFL.csv')\n",
    "\n",
    "# Plasma ABETA UPENN\n",
    "df_abeta=pd.read_csv('UPENNPLASMA.csv')\n",
    "\n",
    "# HOMOCYSTEINE\n",
    "df_homocysteine=pd.read_csv('HCRES.csv')\n",
    "\n",
    "## ADMC DATA\n",
    "# P180 data\n",
    "df_metabolytes=pd.read_csv('ADMCDUKEP180UPLC_01_15_16.csv')"
   ]
  },
  {
   "cell_type": "code",
   "execution_count": null,
   "metadata": {},
   "outputs": [],
   "source": [
    "# Select interesting columns\n",
    "info = [\"RID\", \"PTID\", \"MMSE\", \"VISCODE\", \"EXAMDATE\",\n",
    "        \"AGE\", \"PTGENDER\", \"APOE4\", \"DX_bl\", \"PTEDUCAT\"]\n",
    "\n",
    "df_data = df_data[info].copy()\n",
    "\n",
    "# Select only baseline data\n",
    "df_data = df_data[(df_data.VISCODE == \"bl\")]\n",
    "\n",
    "# Drop -1 and -4 missing indicators\n",
    "df_data = df_data.replace(to_replace=[-1, -4], value=[np.nan, np.nan]).dropna()\n",
    "\n",
    "# ADD Plasma biomarkers\n",
    "# Drop empty columns\n",
    "df_plasma_full = df_plasma_full.replace(to_replace=['.'], value=[np.nan])\n",
    "df_plasma_full = df_plasma_full.dropna(axis=1, how='any')\n",
    "\n",
    "# select only baselines\n",
    "df_plasma_full = df_plasma_full[df_plasma_full.Visit_Code == 'bl']\n",
    "\n",
    "# Add all colums\n",
    "df_data = pd.merge(df_data, df_plasma_full.iloc[:, 1:], how='inner', on=\"RID\")\n",
    "del df_data['Visit_Code']\n",
    "del df_data['RBM Sample ID']\n",
    "del df_data['Sample_Received_Date']\n",
    "\n",
    "# Drop missing data, print some statistics of the data\n",
    "df_data.dropna()"
   ]
  },
  {
   "cell_type": "markdown",
   "metadata": {},
   "source": [
    "Select only the subset of the data where:\n",
    "* No missing data values.\n",
    "* Data quality is good across all markers\n",
    "\n",
    "Also, we want to check whether the number of subjects is high enough for the tests, so tests different combinations"
   ]
  },
  {
   "cell_type": "code",
   "execution_count": null,
   "metadata": {},
   "outputs": [],
   "source": [
    "# First, without the metabolytes\n",
    "# Keep adding the data to the origina and check how many subjects still remain\n",
    "\n",
    "# ADD homocysteine\n",
    "df_homocysteine = df_homocysteine[df_homocysteine.VISCODE == 'bl']\n",
    "df_homocysteine = df_homocysteine[[\"RID\", \"HCAMPLAS\"]]\n",
    "print(df_homocysteine.isnull().sum())\n",
    "df_homocysteine.dropna()\n",
    "df_useddata_homo = pd.merge(df_data, df_homocysteine, how='inner', on=\"RID\")\n",
    "\n",
    "# ADD PLasma ABETA\n",
    "df_abeta = df_abeta[df_abeta.VISCODE == 'bl']\n",
    "df_abeta = df_abeta[[\"RID\", \"AB40\", \"AB42\"]]\n",
    "print(df_abeta.isnull().sum())\n",
    "df_abeta.dropna()\n",
    "df_useddata_homo_abeta = pd.merge(df_useddata_homo, df_abeta, how='inner', on=\"RID\")\n",
    "\n",
    "# Add NFL data\n",
    "df_nfl = df_nfl[df_nfl.VISCODE == 'bl']\n",
    "df_nfl = df_nfl[[\"RID\", \"PLASMA_NFL\"]]\n",
    "print(df_nfl.isnull().sum())\n",
    "df_nfl.dropna()\n",
    "df_useddata_homo_abeta_plasma = pd.merge(df_useddata_homo_abeta, df_nfl, how='inner', on=\"RID\")"
   ]
  },
  {
   "cell_type": "code",
   "execution_count": null,
   "metadata": {},
   "outputs": [],
   "source": [
    "# Cell for testing\n",
    "df_useddata_homo_abeta_plasma\n",
    "print('Total samples: ' + str(len(df_useddata_homo_abeta_plasma)))\n",
    "print(\"AD samples: \" + str(len(df_useddata_homo_abeta_plasma[df_useddata_homo_abeta_plasma.DX_bl == 'AD'])))\n",
    "print(\"LMCI samples: \" + str(len(df_useddata_homo_abeta_plasma[df_useddata_homo_abeta_plasma.DX_bl == 'LMCI'])))\n",
    "print(\"CN samples: \" + str(len(df_useddata_homo_abeta_plasma[df_useddata_homo_abeta_plasma.DX_bl == 'CN'])))"
   ]
  },
  {
   "cell_type": "code",
   "execution_count": null,
   "metadata": {},
   "outputs": [],
   "source": [
    "# Try to add the metabolytes\n",
    "\n",
    "# Integrate columns names from dictionary\n",
    "# load dictionary\n",
    "df_metabolytes_DICT=pd.read_csv('ADMCDUKEP180UPLC_DICT.csv')\n",
    "df_metabolytes = df_metabolytes.drop_duplicates(subset=['RID'], keep='first', inplace=False)\n",
    "\n",
    "# Convert to NA non-numeric values\n",
    "def isnumber(x):\n",
    "    try:\n",
    "        float(x)\n",
    "        return True\n",
    "    except:\n",
    "        return False\n",
    "\n",
    "df_metabolytes = df_metabolytes[df_metabolytes.applymap(isnumber)]\n",
    "\n",
    "# drop columns that have more than 10% NA values\n",
    "df_metabolytes = df_metabolytes.dropna(axis=1, how='any')\n",
    "print(len(df_metabolytes))\n",
    "print(df_metabolytes)\n",
    "#After this, remove individual samples\n",
    "df_metabolytes = df_metabolytes.dropna()\n",
    "print(len(df_metabolytes))\n",
    "df_useddata_homo_abeta_plasma_meta = pd.merge(df_useddata_homo_abeta_plasma, df_metabolytes, how='inner', on=\"RID\")\n",
    "# assign new names\n",
    "\n",
    "# Check statistics\n",
    "print('Total samples: ' + str(len(df_useddata_homo_abeta_plasma_meta)))\n",
    "print(\"AD samples: \" + str(len(df_useddata_homo_abeta_plasma_meta[df_useddata_homo_abeta_plasma_meta.DX_bl == 'AD'])))\n",
    "print(\"LMCI samples: \" + str(len(df_useddata_homo_abeta_plasma_meta[df_useddata_homo_abeta_plasma_meta.DX_bl == 'LMCI'])))\n",
    "print(\"CN samples: \" + str(len(df_useddata_homo_abeta_plasma_meta[df_useddata_homo_abeta_plasma_meta.DX_bl == 'CN'])))\n",
    "\n",
    "df_useddata_homo_abeta_plasma_meta\n",
    "df_useddata_homo_abeta_plasma_meta.to_csv(\"useddata_homo_abeta_plasma_meta.csv\")"
   ]
  }
 ],
 "metadata": {
  "kernelspec": {
   "display_name": "Python 3",
   "language": "python",
   "name": "python3"
  },
  "language_info": {
   "codemirror_mode": {
    "name": "ipython",
    "version": 3
   },
   "file_extension": ".py",
   "mimetype": "text/x-python",
   "name": "python",
   "nbconvert_exporter": "python",
   "pygments_lexer": "ipython3",
   "version": "3.6.4"
  }
 },
 "nbformat": 4,
 "nbformat_minor": 2
}
