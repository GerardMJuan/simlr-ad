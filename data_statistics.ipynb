{
 "cells": [
  {
   "cell_type": "markdown",
   "metadata": {},
   "source": [
    "## Data statistics for the population and each cluster"
   ]
  },
  {
   "cell_type": "code",
   "execution_count": 7,
   "metadata": {},
   "outputs": [],
   "source": [
    "# Include and load packages, config files\n",
    "\n",
    "import numpy as np\n",
    "import simlr_ad\n",
    "import pandas as pd\n",
    "from utils.data_utils import load_all_data\n",
    "from utils.utils import compute_simlr, feat_ranking, estimate_number_clusters\n",
    "import matplotlib.pyplot as plt\n",
    "import seaborn as sns\n",
    "%matplotlib inline\n",
    "\n",
    "# Parameters of the procedure\n",
    "clusters = 3\n",
    "rd_seed = 1714                                          # Random seed for experiment replication\n",
    "\n",
    "# Paths\n",
    "existing_cluster = True                               # Compute the clustering again or use an existing one\n",
    "cluster_path = \"results/extendeddata_cluster/\"   # Path of the existing cluster, if applicable\n",
    "covariate_path = \"data/useddata_homo_abeta_plasma_meta.csv\"                 # Path of the covariance data frame (.csv)\n",
    "feature_path = \"data/UCSDVOL.csv\"                     # Path of the feature path (.csv)\n",
    "\n",
    "covariate_data, cov_names, feature_data, feature_names = load_all_data(covariate_path, feature_path)\n",
    "feature_data['DX'] = covariate_data.DX_bl.values\n",
    "\n",
    "if existing_cluster:\n",
    "    # Load existent\n",
    "    c_data = pd.read_csv(cluster_path + 'cluster_data.csv')\n",
    "    ## Load S, F data\n",
    "    S = np.load(cluster_path + 'S_matrix.npy')\n",
    "    ydata = np.load(cluster_path + 'ydata_matrix.npy')\n",
    "    F = np.load(cluster_path + 'F_matrix.npy')\n",
    "else:\n",
    "    # Compute base clustering\n",
    "    y_b, S, F, ydata, alpha = compute_simlr(\n",
    "        np.array(covariate_data[cov_names]), clusters)\n"
   ]
  },
  {
   "cell_type": "markdown",
   "metadata": {},
   "source": [
    "Compute the basic summary for each of the diagnostic groups"
   ]
  },
  {
   "cell_type": "code",
   "execution_count": 8,
   "metadata": {},
   "outputs": [
    {
     "name": "stdout",
     "output_type": "stream",
     "text": [
      "{'AD': 85, 'CN': 52, 'LMCI': 161}\n",
      "298\n",
      "             MMSE    PTEDUCAT         AGE\n",
      "count  298.000000  298.000000  298.000000\n",
      "mean    26.325503   15.687919   74.447651\n",
      "std      2.620449    2.924399    7.392439\n",
      "min     20.000000    6.000000   55.100000\n",
      "25%     25.000000   14.000000   70.350000\n",
      "50%     26.000000   16.000000   74.450000\n",
      "75%     29.000000   18.000000   79.600000\n",
      "max     30.000000   20.000000   89.600000\n",
      "0.3926174496644295\n",
      "0.4899328859060403\n",
      "CN\n",
      "0.4423076923076923\n",
      "0.09615384615384616\n",
      "LMCI\n",
      "0.33540372670807456\n",
      "0.5217391304347826\n",
      "AD\n",
      "0.47058823529411764\n",
      "0.6705882352941176\n"
     ]
    }
   ],
   "source": [
    "# Check distribution of DX in each cluster\n",
    "unique, counts = np.unique(covariate_data.DX_bl.values, return_counts=True)\n",
    "print(dict(zip(unique, counts)))\n",
    "print(len(covariate_data))\n",
    "labels = [\"MMSE\", \"PTEDUCAT\", \"AGE\"]\n",
    "otherlabels = [\"PTGENDER\", \"APOE4\"]\n",
    "dx = [\"CN\", \"LMCI\", \"AD\"]\n",
    "print(covariate_data[labels].describe())\n",
    "\n",
    "g_ratio = len(covariate_data[covariate_data.PTGENDER.values == 0]) / len(covariate_data)\n",
    "print(g_ratio)\n",
    "# Apoe positive ratio\n",
    "a_ratio = len(covariate_data[covariate_data.APOE4.values > 0]) / len(covariate_data)\n",
    "print(a_ratio)\n",
    "\n",
    "# For different diagnostics\n",
    "for d in dx:\n",
    "    print(d)\n",
    "    c1 = covariate_data[covariate_data['DX_bl'].values == d]\n",
    "    # Gender ratio (% of females)\n",
    "    g_ratio = len(c1[c1.PTGENDER.values == 0]) / len(c1)\n",
    "    print(g_ratio)\n",
    "    # Apoe positive ratio\n",
    "    a_ratio = len(c1[c1.APOE4.values > 0]) / len(c1)\n",
    "    print(a_ratio)\n",
    "    \n",
    "    # print(c1[labels].describe())\n"
   ]
  },
  {
   "cell_type": "code",
   "execution_count": 14,
   "metadata": {},
   "outputs": [
    {
     "name": "stdout",
     "output_type": "stream",
     "text": [
      "Cluster 1\n",
      "112\n",
      "Number of each diagnostic\n",
      "{'AD': 20, 'CN': 24, 'LMCI': 68}\n",
      "Gender ratio (females): 0.07142857142857142\n",
      "Apoe (+): 0.42857142857142855\n",
      "             MMSE    PTEDUCAT         AGE\n",
      "count  112.000000  112.000000  112.000000\n",
      "mean    26.687500   15.857143   76.241071\n",
      "std      2.529221    2.900317    6.175782\n",
      "min     20.000000    6.000000   57.700000\n",
      "25%     25.000000   14.000000   72.475000\n",
      "50%     27.000000   16.000000   76.200000\n",
      "75%     29.000000   18.000000   80.400000\n",
      "max     30.000000   20.000000   88.300000\n",
      "Cluster 2\n",
      "130\n",
      "Number of each diagnostic\n",
      "{'AD': 36, 'CN': 19, 'LMCI': 75}\n",
      "Gender ratio (females): 0.6846153846153846\n",
      "Apoe (+): 0.5461538461538461\n",
      "             MMSE    PTEDUCAT         AGE\n",
      "count  130.000000  130.000000  130.000000\n",
      "mean    26.507692   15.469231   72.693846\n",
      "std      2.386156    3.035165    7.481458\n",
      "min     21.000000    8.000000   55.100000\n",
      "25%     25.000000   13.000000   68.125000\n",
      "50%     26.000000   16.000000   72.450000\n",
      "75%     29.000000   18.000000   77.600000\n",
      "max     30.000000   20.000000   89.600000\n",
      "Cluster 3\n",
      "56\n",
      "Number of each diagnostic\n",
      "{'AD': 29, 'CN': 9, 'LMCI': 18}\n",
      "Gender ratio (females): 0.35714285714285715\n",
      "Apoe (+): 0.48214285714285715\n",
      "            MMSE   PTEDUCAT        AGE\n",
      "count  56.000000  56.000000  56.000000\n",
      "mean   25.178571  15.857143  74.932143\n",
      "std     3.021782   2.719817   8.531527\n",
      "min    20.000000  10.000000  56.100000\n",
      "25%    23.000000  14.000000  69.375000\n",
      "50%    26.000000  16.000000  77.100000\n",
      "75%    27.250000  18.000000  82.125000\n",
      "max    30.000000  20.000000  87.800000\n"
     ]
    }
   ],
   "source": [
    "# For different clusters\n",
    "for c in range(1, clusters+1):\n",
    "    print('Cluster ' + str(c))\n",
    "    c1 = covariate_data[c_data['C'].values == c]\n",
    "    print(len(c1))\n",
    "    unique, counts = np.unique(c1.DX_bl.values, return_counts=True)\n",
    "    print(\"Number of each diagnostic\")\n",
    "    print(dict(zip(unique, counts)))\n",
    "    # Gender ratio (% of females)\n",
    "    g_ratio = len(c1[c1.PTGENDER.values == 0]) / len(c1)\n",
    "    print(\"Gender ratio (females): \" + str(g_ratio))\n",
    "    # Apoe positive ratio\n",
    "    a_ratio = len(c1[c1.APOE4.values > 0]) / len(c1)\n",
    "    print(\"Apoe (+): \" + str(a_ratio))\n",
    "    print(c1[labels].describe())\n",
    "\n",
    "    \n",
    "    "
   ]
  },
  {
   "cell_type": "code",
   "execution_count": 5,
   "metadata": {},
   "outputs": [],
   "source": [
    "# Data statistics for important features\n",
    "important_names = [\"Beta-2-Microglobulin (B2M) (ug/mL)\",\n",
    "\"Cystatin-C (ng/ml)\",\n",
    "\"T-Cell-Specific Protein RANTES (RANTES) (ng/mL)\",\n",
    "\"Brain-Derived Neurotrophic Factor (BDNF) (ng/mL)\",\n",
    "\"Platelet-Derived Growth Factor BB (PDGF- (pg/ml)\",\n",
    "\"Growth-Regulated alpha protein (GRO-alph (pg/mL)\",\n",
    "\"CD40 Ligand (CD40-L) (ng/mL)\",\n",
    "\"Epidermal Growth Factor (EGF) (pg/mL)\",\n",
    "\"Follicle-Stimulating Hormone (FSH) (mIU/mL)\",\n",
    "\"Trefoil Factor 3 (TFF3) (ug/ml)\",\n",
    "\"Tissue Inhibitor of Metalloproteinases 1 (ng/mL)\",\n",
    "\"Epithelial-Derived Neutrophil-Activating (ng/mL)\",\n",
    "\"Alpha-1-Microglobulin (A1Micro) (ug/ml)\",\n",
    "\"Luteinizing Hormone  (LH) (mIU/mL)\",\n",
    "\"Kynurenine\",\n",
    "\"Apolipoprotein H (Apo H) (ug/mL)\"\n",
    "]\n",
    "\n",
    "for feat in important_names:\n"
   ]
  },
  {
   "cell_type": "code",
   "execution_count": null,
   "metadata": {},
   "outputs": [],
   "source": [
    "# Data statistics for important features in feature space\n",
    "\n",
    "for feat in feature_names:\n",
    "    feature_data"
   ]
  }
 ],
 "metadata": {
  "kernelspec": {
   "display_name": "Python 3",
   "language": "python",
   "name": "python3"
  },
  "language_info": {
   "codemirror_mode": {
    "name": "ipython",
    "version": 3
   },
   "file_extension": ".py",
   "mimetype": "text/x-python",
   "name": "python",
   "nbconvert_exporter": "python",
   "pygments_lexer": "ipython3",
   "version": "3.6.4"
  }
 },
 "nbformat": 4,
 "nbformat_minor": 2
}
