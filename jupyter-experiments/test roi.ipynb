{
 "cells": [
  {
   "cell_type": "markdown",
   "metadata": {},
   "source": [
    "## Brain figure generation\n",
    "Create a mask, taking from reference the FSAverage subject of FreeSurfer. To run this script, we need to run first permutation_test.ipynb, to generate the file with the probabilities, or you can input your own probabilities file.\n",
    "\n",
    "Define the results directory and the concrete file we are using to draw the probabilities from:"
   ]
  },
  {
   "cell_type": "code",
   "execution_count": null,
   "metadata": {},
   "outputs": [],
   "source": [
    "results_dir = '../results/cimlr4/'\n",
    "file_prob = 'percentiles.csv'"
   ]
  },
  {
   "cell_type": "markdown",
   "metadata": {},
   "source": [
    "Create a mask for the selected cluster, representing the different probabilities over the corresponding region."
   ]
  },
  {
   "cell_type": "code",
   "execution_count": null,
   "metadata": {},
   "outputs": [],
   "source": [
    "%matplotlib inline\n",
    "import nibabel as nib\n",
    "import numpy as np\n",
    "import pandas as pd\n",
    "\n",
    "# Load Atlas\n",
    "atlas='fsaverage/brain.mgz'\n",
    "labels='fsaverage/aseg.mgz'\n",
    "labels_csv = 'fsaverage/labels.csv'\n",
    "# Load files\n",
    "nib_atlas = nib.load(atlas)\n",
    "nib_atlas_array = np.array(nib_atlas.dataobj)\n",
    "\n",
    "nib_labels = nib.load(labels)\n",
    "nib_labels_array = np.array(nib_labels.dataobj)\n",
    "\n",
    "# Load probabilities\n",
    "df_prob = pd.read_csv(file_prob, index_col=0, header=0).T\n",
    "# Load labels\n",
    "df_labels = pd.read_csv(labels_csv, sep=' ')\n",
    "\n",
    "# For each probability in the df_prob file, assign it to the corresponding ROI\n",
    "mask = np.zeros((nib_labels_array.shape[0], nib_labels_array.shape[1], nib_labels_array.shape[2]))\n",
    "\n",
    "for line in df_prob.itertuples():\n",
    "    # Get label\n",
    "    curr_label = line.Index\n",
    "    prob = line[3]\n",
    "    i = int(df_labels[df_labels.Label == curr_label].Index)\n",
    "    mask[nib_labels_array==i] = prob\n",
    "    \n",
    "\n",
    "new_image_mri = nib.Nifti1Image(mask, nib_labels.affine)\n",
    "# Save\n",
    "nib.save(new_image_mri,'mask.mgz')"
   ]
  },
  {
   "cell_type": "markdown",
   "metadata": {},
   "source": [
    "Generate the figure:"
   ]
  },
  {
   "cell_type": "code",
   "execution_count": null,
   "metadata": {},
   "outputs": [],
   "source": [
    "from nilearn import plotting\n",
    "import matplotlib.pyplot as plt\n",
    "import seaborn as sns\n",
    "from matplotlib.colors import LogNorm\n",
    "%matplotlib inline\n",
    "sns.set(style=\"white\")\n",
    "\n",
    "plotting.plot_stat_map('mask.mgz', bg_img=atlas, annotate=False, black_bg=False, draw_cross=False, vmax=3, cut_coords=(0,-14,0))\n",
    "plotting.show()"
   ]
  },
  {
   "cell_type": "code",
   "execution_count": null,
   "metadata": {},
   "outputs": [],
   "source": [
    "plotting.plot_roi(labels, bg_img=atlas, annotate=True, black_bg=False, draw_cross=False, cmap='Paired', colorbar=True)\n",
    "plotting.show()"
   ]
  },
  {
   "cell_type": "code",
   "execution_count": null,
   "metadata": {},
   "outputs": [],
   "source": []
  }
 ],
 "metadata": {
  "kernelspec": {
   "display_name": "Python 3",
   "language": "python",
   "name": "python3"
  },
  "language_info": {
   "codemirror_mode": {
    "name": "ipython",
    "version": 3
   },
   "file_extension": ".py",
   "mimetype": "text/x-python",
   "name": "python",
   "nbconvert_exporter": "python",
   "pygments_lexer": "ipython3",
   "version": "3.6.4"
  }
 },
 "nbformat": 4,
 "nbformat_minor": 2
}
