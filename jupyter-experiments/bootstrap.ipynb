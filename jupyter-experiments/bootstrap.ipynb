{
 "cells": [
  {
   "cell_type": "markdown",
   "metadata": {},
   "source": [
    "# Bootstrapping clustering procedure\n",
    "\n",
    "We use the bootstrap technique to train the clustering 1000 times, with different samples. This way, we should be able to obtain a better picture of the resulting space. The exact procedure is, for each iteration:\n",
    "* Obtain a random subsampling of the data.\n",
    "* Compute the clustering\n",
    "* Calculate Jaccard coeficient between original clusters and new. Record highest Jaccard coeficient.\n",
    "In the end, compute median of the jaccard coeficients. This procedure is similar to clusterboot() algorithm in R, to account for stability in the clustering and find if we are actually finding relevant clusters or not."
   ]
  },
  {
   "cell_type": "code",
   "execution_count": 1,
   "metadata": {},
   "outputs": [],
   "source": [
    "import numpy as np\n",
    "import simlr_ad\n",
    "import pandas as pd\n",
    "from utils.data_utils import load_all_data\n",
    "from utils.utils import compute_cimlr, feat_ranking, estimate_number_clusters\n",
    "import matplotlib.pyplot as plt\n",
    "import seaborn as sns\n",
    "%matplotlib inline\n"
   ]
  },
  {
   "cell_type": "markdown",
   "metadata": {},
   "source": [
    "**Parameters**"
   ]
  },
  {
   "cell_type": "code",
   "execution_count": 2,
   "metadata": {},
   "outputs": [],
   "source": [
    "# Parameters of the procedure\n",
    "clusters = 4\n",
    "stab_limit = 0.5 # if the stability of a said cluster is dissolved, it records.\n",
    "rd_seed = 1714                                          # Random seed for experiment replication\n",
    "\n",
    "# Paths\n",
    "existing_cluster = True                               # Compute the clustering again or use an existing one\n",
    "cluster_path = \"results/cimlr4/cluster_data.csv\"   # Path of the existing cluster, if applicable\n",
    "covariate_path = \"data/useddata_homo_abeta_plasma_meta.csv\"                 # Path of the covariance data frame (.csv)\n",
    "feature_path = \"data/UCSDVOL.csv\"                     # Path of the feature path (.csv)\n",
    "\n",
    "# Parameters of the cluster creation\n",
    "config_file = \"configs/config_cimlr.ini\"               # Configuration file for the clustering computation\n",
    "output_directory_name = \"bootstrap\"\n",
    "\n",
    "# Testing parameters\n"
   ]
  },
  {
   "cell_type": "markdown",
   "metadata": {},
   "source": [
    "**Data loader**"
   ]
  },
  {
   "cell_type": "code",
   "execution_count": 3,
   "metadata": {},
   "outputs": [],
   "source": [
    "covariate_data, cov_names, feature_data, feature_names = load_all_data(covariate_path, feature_path)"
   ]
  },
  {
   "cell_type": "code",
   "execution_count": 4,
   "metadata": {},
   "outputs": [],
   "source": [
    "if existing_cluster:\n",
    "    # Load existent\n",
    "    c_data = pd.read_csv(cluster_path)\n",
    "else:\n",
    "    # Compute base clustering\n",
    "    y_b, S, F, ydata, alpha = compute_simlr(\n",
    "        np.array(covariate_data_new[cov_names]), clusters)\n"
   ]
  },
  {
   "cell_type": "code",
   "execution_count": 5,
   "metadata": {},
   "outputs": [
    {
     "name": "stdout",
     "output_type": "stream",
     "text": [
      "150\n"
     ]
    }
   ],
   "source": [
    "## Test outlier detection\n",
    "from sklearn import svm\n",
    "clf = svm.OneClassSVM(kernel=\"rbf\")\n",
    "clf.fit(covariate_data[cov_names])\n",
    "y_pred = clf.predict(covariate_data[cov_names])\n",
    "n_error_outliers = y_pred[y_pred == -1].size\n",
    "print(n_error_outliers)"
   ]
  },
  {
   "cell_type": "markdown",
   "metadata": {},
   "source": [
    "### Main Loop"
   ]
  },
  {
   "cell_type": "code",
   "execution_count": 29,
   "metadata": {},
   "outputs": [
    {
     "ename": "KeyError",
     "evalue": "\"['Alpha-1-Microglobulin (A1Micro) (ug/ml)'\\n 'Alpha-2-Macroglobulin (A2Macro) (mg/mL)'\\n 'Alpha-1-Antichymotrypsin (AACT) (ug/ml)'\\n 'Alpha-1-Antitrypsin (AAT) (mg/mL)'\\n 'Angiotensin-Converting Enzyme (ACE) (ng/ml)' 'Adiponectin (ug/mL)'\\n 'Alpha-Fetoprotein (AFP) (ng/mL)' 'Agouti-Related Protein (AGRP) (pg/mL)'\\n 'Angiopoietin-2 (ANG-2) (ng/mL)' 'Angiotensinogen (ng/mL)'\\n 'Apolipoprotein A-I (Apo A-I) (mg/mL)'\\n 'Apolipoprotein A-II (Apo A-II) (ng/ml)'\\n 'Apolipoprotein A-IV (Apo A-IV) (ug/ml)'\\n 'Apolipoprotein B (Apo B) (ug/ml)' 'Apolipoprotein C-I (Apo C-I) (ng/ml)'\\n 'Apolipoprotein C-III (Apo C-III) (ug/mL)'\\n 'Apolipoprotein D (Apo D) (ug/ml)' 'Apolipoprotein E (Apo E) (ug/ml)'\\n 'Apolipoprotein H (Apo H) (ug/mL)'\\n 'AXL Receptor Tyrosine Kinase (AXL) (ng/mL)'\\n 'Beta-2-Microglobulin (B2M) (ug/mL)'\\n 'Brain-Derived Neurotrophic Factor (BDNF) (ng/mL)'\\n 'B Lymphocyte Chemoattractant (BLC) (pg/ml)'\\n 'Bone Morphogenetic Protein 6 (BMP-6) (ng/mL)'\\n 'Brain Natriuretic Peptide  (BNP) (pg/ml)' 'Betacellulin (BTC) (pg/mL)'\\n 'Complement C3 (C3) (mg/mL)' 'Cancer Antigen 19-9 (CA-19-9) (U/mL)'\\n 'Calcitonin (pg/mL)' 'CD 40 antigen (CD40) (ng/mL)'\\n 'CD40 Ligand (CD40-L) (ng/mL)' 'CD5 (CD5L) (ng/ml)'\\n 'Carcinoembryonic Antigen (CEA) (ng/mL)' 'Chromogranin-A (CgA) (ng/mL)'\\n 'Creatine Kinase-MB (CK-MB) (ng/mL)' 'Clusterin (CLU) (ug/ml)'\\n 'Ciliary Neurotrophic Factor (CNTF) (pg/mL)'\\n 'Complement Factor H (ug/ml)' 'Cortisol (Cortisol) (ng/ml)'\\n 'C-peptide (ng/ml)' 'C-Reactive Protein (CRP) (ug/mL)'\\n 'Cystatin-C (ng/ml)' 'Epidermal Growth Factor (EGF) (pg/mL)'\\n 'Epidermal Growth Factor Receptor (EGFR) (ng/mL)'\\n 'Epithelial-Derived Neutrophil-Activating (ng/mL)' 'Eotaxin-1 (pg/mL)'\\n 'Eotaxin-3 (pg/mL)' 'E-Selectin (ng/mL)'\\n 'Fatty Acid-Binding Protein- heart  (FABP (ng/mL)' 'Factor VII (ng/mL)'\\n 'FASLG Receptor (FAS) (ng/mL)' 'Fas Ligand (FasL) (pg/mL)'\\n 'Fetuin-A (ug/ml)' 'Fibroblast Growth Factor 4 (FGF-4) (pg/mL)'\\n 'Fibrinogen (mg/mL)' 'Ferritin (FRTN) (ng/mL)'\\n 'Follicle-Stimulating Hormone (FSH) (mIU/mL)'\\n 'Growth Hormone (GH) (ng/mL)'\\n 'Growth-Regulated alpha protein (GRO-alph (pg/mL)'\\n 'Glutathione S-Transferase alpha (GST-alp (ng/ml)' 'Haptoglobin (mg/mL)'\\n 'Heparin-Binding EGF-Like Growth Factor ( (pg/mL)'\\n 'Chemokine CC-4 (HCC-4) (ng/mL)' 'Hepatocyte Growth Factor (HGF) (ng/mL)'\\n 'T Lymphocyte-Secreted Protein I-309 (I-3 (pg/mL)'\\n 'Intercellular Adhesion Molecule 1 (ICAM- (ng/mL)'\\n 'Immunoglobulin A (IgA) (mg/mL)' 'Immunoglobulin E (IgE) (ng/mL)'\\n 'Insulin-like Growth Factor-Binding Prote (ng/mL)'\\n 'Immunoglobulin M (IGM) (mg/mL)' 'Interleukin-13 (IL-13) (pg/mL)'\\n 'Interleukin-16 (IL-16) (pg/mL)' 'Interleukin-18 (IL-18) (pg/mL)'\\n 'Interleukin-3 (IL-3) (ng/mL)' 'Interleukin-6 receptor (IL-6r) (ng/mL)'\\n 'Interleukin-8 (IL-8) (pg/mL)' 'Insulin (uIU/mL)'\\n 'Interferon gamma Induced Protein 10 (IP- (pg/ml)'\\n 'Kidney Injury Molecule-1  (KIM-1) (ng/ml)' 'Leptin (ng/mL)'\\n 'Luteinizing Hormone  (LH) (mIU/mL)' 'Apolipoprotein(a) (Lp(a)) (ug/mL)'\\n 'Monocyte Chemotactic Protein 1 (MCP-1) (pg/mL)'\\n 'Monocyte Chemotactic Protein 2 (MCP-2) (pg/ml)'\\n 'Monocyte Chemotactic Protein 3 (MCP-3) (pg/mL)'\\n 'Monocyte Chemotactic Protein 4 (MCP-4) (pg/ml)'\\n 'Macrophage Colony-Stimulating Factor 1 ( (ng/mL)'\\n 'Macrophage-Derived Chemokine (MDC) (pg/mL)'\\n 'Macrophage Migration Inhibitory Factor ( (ng/mL)'\\n 'Monokine Induced by Gamma Interferon (MI (pg/ml)'\\n 'Macrophage Inflammatory Protein-1 alpha (pg/mL)'\\n 'Macrophage Inflammatory Protein-1 beta ( (pg/mL)'\\n 'Macrophage Inflammatory Protein-3 alpha (pg/ml)'\\n 'Matrix Metalloproteinase-1 (MMP-1) (ng/ml)'\\n 'Matrix Metalloproteinase-10 (MMP-10) (ng/ml)'\\n 'Matrix Metalloproteinase-2 (MMP-2) (ng/mL)'\\n 'Matrix Metalloproteinase-7 (MMP-7) (ng/ml)'\\n 'Matrix Metalloproteinase-9 (MMP-9) (ng/mL)'\\n 'Matrix Metalloproteinase-9- total (MMP-9 (ng/ml)'\\n 'Myeloid Progenitor Inhibitory Factor 1 ( (ng/mL)'\\n 'Myeloperoxidase (MPO) (ng/mL)' 'Myoglobin (ng/mL)'\\n 'Neutrophil Gelatinase-Associated Lipocal (ng/ml)'\\n 'Neuronal Cell Adhesion Molecule (Nr-CAM) (ng/mL)' 'Osteopontin (ng/ml)'\\n 'Plasminogen Activator Inhibitor 1 (PAI-1 (ng/mL)'\\n 'Prostatic Acid Phosphatase (PAP) (ng/mL)'\\n 'Pregnancy-Associated Plasma Protein A (P (mIU/mL)'\\n 'Pulmonary and Activation-Regulated Chemo (ng/mL)'\\n 'Platelet-Derived Growth Factor BB (PDGF- (pg/ml)'\\n 'Placenta Growth Factor (PLGF) (pg/ml)'\\n 'Pancreatic Polypeptide (PPP) (pg/ml)' 'Prolactin (PRL) (ng/ml)'\\n 'Proinsulin- Intact (pM)' 'Proinsulin- Total (pM)'\\n 'Peptide YY (PYY) (pg/mL)'\\n 'Receptor for advanced glycosylation end (ng/mL)'\\n 'T-Cell-Specific Protein RANTES (RANTES) (ng/mL)' 'Resistin (ng/ml)'\\n 'Serum Amyloid P-Component (SAP) (ug/mL)'\\n 'Stem Cell Factor (SCF) (pg/mL)'\\n 'Serum Glutamic Oxaloacetic Transaminase (ug/mL)'\\n 'Sex Hormone-Binding Globulin (SHBG) (nmol/L)'\\n 'Superoxide Dismutase 1- Soluble (SOD-1) (ng/mL)' 'Sortilin (ng/mL)'\\n 'Thyroxine-Binding Globulin (TBG) (ug/mL)'\\n 'Thymus-Expressed Chemokine (TECK) (ng/mL)' 'Testosterone- Total (ng/ml)'\\n 'Trefoil Factor 3 (TFF3) (ug/ml)'\\n 'Tamm-Horsfall Urinary Glycoprotein (THP) (ug/ml)'\\n 'Thrombospondin-1 (ng/mL)'\\n 'Tissue Inhibitor of Metalloproteinases 1 (ng/mL)'\\n 'Thrombomodulin (TM) (ng/ml)' 'Tenascin-C (TN-C) (ng/mL)'\\n 'Tumor Necrosis Factor alpha (TNF-alpha) (pg/mL)'\\n 'Tumor Necrosis Factor Receptor-Like 2 (T (ng/mL)'\\n 'Thrombopoietin (ng/mL)'\\n 'TNF-Related Apoptosis-Inducing Ligand Re (ng/mL)'\\n 'Serotransferrin (Transferrin) (mg/dl)'\\n 'Thyroid-Stimulating Hormone  (TSH) (uIU/mL)'\\n 'Transthyretin (TTR) (mg/dl)'\\n 'Vascular Cell Adhesion Molecule-1 (VCAM- (ng/mL)'\\n 'Vascular Endothelial Growth Factor (VEGF (pg/mL)' 'Vitronectin (ug/ml)'\\n 'Vitamin K-Dependent Protein S (VKDPS) (ug/ml)'\\n 'von Willebrand Factor (vWF) (ug/mL)' 'HCAMPLAS' 'AB40' 'AB42'\\n 'PLASMA_NFL' 'Alanine' 'Arginine' 'Asparagine' 'Aspartic Acid'\\n 'Citrulline' 'Glutamine' 'Glutamic Acid' 'Glycine' 'Isoleucine' 'Lysine'\\n 'Methionine' 'Ornithine' 'Phenylalanine' 'Proline' 'Serine' 'Threonine'\\n 'Tryptophan' 'Tyrosine' 'Valine' 'Kynurenine' 'Sarcosine'\\n 'trans isomer of 4-hydroxyproline '] not in index\"",
     "output_type": "error",
     "traceback": [
      "\u001b[0;31m---------------------------------------------------------------------------\u001b[0m",
      "\u001b[0;31mKeyError\u001b[0m                                  Traceback (most recent call last)",
      "\u001b[0;32m<ipython-input-29-efc98926857e>\u001b[0m in \u001b[0;36m<module>\u001b[0;34m()\u001b[0m\n\u001b[1;32m     11\u001b[0m     \u001b[0;31m# Compute it\u001b[0m\u001b[0;34m\u001b[0m\u001b[0;34m\u001b[0m\u001b[0m\n\u001b[1;32m     12\u001b[0m     y_it, S, F, ydata, alpha = compute_cimlr(\n\u001b[0;32m---> 13\u001b[0;31m        np.array(boot_data[cov_names]), clusters)\n\u001b[0m\u001b[1;32m     14\u001b[0m     \u001b[0;31m# y_it = np.random.randint(1,clusters+1, size=len(boot_data))\u001b[0m\u001b[0;34m\u001b[0m\u001b[0;34m\u001b[0m\u001b[0m\n\u001b[1;32m     15\u001b[0m     \u001b[0;31m# km = KMeans(n_clusters=clusters, random_state = rd_seed).fit(boot_data[cov_names])\u001b[0m\u001b[0;34m\u001b[0m\u001b[0;34m\u001b[0m\u001b[0m\n",
      "\u001b[0;32m~/anaconda3/lib/python3.6/site-packages/pandas/core/frame.py\u001b[0m in \u001b[0;36m__getitem__\u001b[0;34m(self, key)\u001b[0m\n\u001b[1;32m   2131\u001b[0m         \u001b[0;32mif\u001b[0m \u001b[0misinstance\u001b[0m\u001b[0;34m(\u001b[0m\u001b[0mkey\u001b[0m\u001b[0;34m,\u001b[0m \u001b[0;34m(\u001b[0m\u001b[0mSeries\u001b[0m\u001b[0;34m,\u001b[0m \u001b[0mnp\u001b[0m\u001b[0;34m.\u001b[0m\u001b[0mndarray\u001b[0m\u001b[0;34m,\u001b[0m \u001b[0mIndex\u001b[0m\u001b[0;34m,\u001b[0m \u001b[0mlist\u001b[0m\u001b[0;34m)\u001b[0m\u001b[0;34m)\u001b[0m\u001b[0;34m:\u001b[0m\u001b[0;34m\u001b[0m\u001b[0m\n\u001b[1;32m   2132\u001b[0m             \u001b[0;31m# either boolean or fancy integer index\u001b[0m\u001b[0;34m\u001b[0m\u001b[0;34m\u001b[0m\u001b[0m\n\u001b[0;32m-> 2133\u001b[0;31m             \u001b[0;32mreturn\u001b[0m \u001b[0mself\u001b[0m\u001b[0;34m.\u001b[0m\u001b[0m_getitem_array\u001b[0m\u001b[0;34m(\u001b[0m\u001b[0mkey\u001b[0m\u001b[0;34m)\u001b[0m\u001b[0;34m\u001b[0m\u001b[0m\n\u001b[0m\u001b[1;32m   2134\u001b[0m         \u001b[0;32melif\u001b[0m \u001b[0misinstance\u001b[0m\u001b[0;34m(\u001b[0m\u001b[0mkey\u001b[0m\u001b[0;34m,\u001b[0m \u001b[0mDataFrame\u001b[0m\u001b[0;34m)\u001b[0m\u001b[0;34m:\u001b[0m\u001b[0;34m\u001b[0m\u001b[0m\n\u001b[1;32m   2135\u001b[0m             \u001b[0;32mreturn\u001b[0m \u001b[0mself\u001b[0m\u001b[0;34m.\u001b[0m\u001b[0m_getitem_frame\u001b[0m\u001b[0;34m(\u001b[0m\u001b[0mkey\u001b[0m\u001b[0;34m)\u001b[0m\u001b[0;34m\u001b[0m\u001b[0m\n",
      "\u001b[0;32m~/anaconda3/lib/python3.6/site-packages/pandas/core/frame.py\u001b[0m in \u001b[0;36m_getitem_array\u001b[0;34m(self, key)\u001b[0m\n\u001b[1;32m   2175\u001b[0m             \u001b[0;32mreturn\u001b[0m \u001b[0mself\u001b[0m\u001b[0;34m.\u001b[0m\u001b[0m_take\u001b[0m\u001b[0;34m(\u001b[0m\u001b[0mindexer\u001b[0m\u001b[0;34m,\u001b[0m \u001b[0maxis\u001b[0m\u001b[0;34m=\u001b[0m\u001b[0;36m0\u001b[0m\u001b[0;34m,\u001b[0m \u001b[0mconvert\u001b[0m\u001b[0;34m=\u001b[0m\u001b[0;32mFalse\u001b[0m\u001b[0;34m)\u001b[0m\u001b[0;34m\u001b[0m\u001b[0m\n\u001b[1;32m   2176\u001b[0m         \u001b[0;32melse\u001b[0m\u001b[0;34m:\u001b[0m\u001b[0;34m\u001b[0m\u001b[0m\n\u001b[0;32m-> 2177\u001b[0;31m             \u001b[0mindexer\u001b[0m \u001b[0;34m=\u001b[0m \u001b[0mself\u001b[0m\u001b[0;34m.\u001b[0m\u001b[0mloc\u001b[0m\u001b[0;34m.\u001b[0m\u001b[0m_convert_to_indexer\u001b[0m\u001b[0;34m(\u001b[0m\u001b[0mkey\u001b[0m\u001b[0;34m,\u001b[0m \u001b[0maxis\u001b[0m\u001b[0;34m=\u001b[0m\u001b[0;36m1\u001b[0m\u001b[0;34m)\u001b[0m\u001b[0;34m\u001b[0m\u001b[0m\n\u001b[0m\u001b[1;32m   2178\u001b[0m             \u001b[0;32mreturn\u001b[0m \u001b[0mself\u001b[0m\u001b[0;34m.\u001b[0m\u001b[0m_take\u001b[0m\u001b[0;34m(\u001b[0m\u001b[0mindexer\u001b[0m\u001b[0;34m,\u001b[0m \u001b[0maxis\u001b[0m\u001b[0;34m=\u001b[0m\u001b[0;36m1\u001b[0m\u001b[0;34m,\u001b[0m \u001b[0mconvert\u001b[0m\u001b[0;34m=\u001b[0m\u001b[0;32mTrue\u001b[0m\u001b[0;34m)\u001b[0m\u001b[0;34m\u001b[0m\u001b[0m\n\u001b[1;32m   2179\u001b[0m \u001b[0;34m\u001b[0m\u001b[0m\n",
      "\u001b[0;32m~/anaconda3/lib/python3.6/site-packages/pandas/core/indexing.py\u001b[0m in \u001b[0;36m_convert_to_indexer\u001b[0;34m(self, obj, axis, is_setter)\u001b[0m\n\u001b[1;32m   1267\u001b[0m                 \u001b[0;32mif\u001b[0m \u001b[0mmask\u001b[0m\u001b[0;34m.\u001b[0m\u001b[0many\u001b[0m\u001b[0;34m(\u001b[0m\u001b[0;34m)\u001b[0m\u001b[0;34m:\u001b[0m\u001b[0;34m\u001b[0m\u001b[0m\n\u001b[1;32m   1268\u001b[0m                     raise KeyError('{mask} not in index'\n\u001b[0;32m-> 1269\u001b[0;31m                                    .format(mask=objarr[mask]))\n\u001b[0m\u001b[1;32m   1270\u001b[0m \u001b[0;34m\u001b[0m\u001b[0m\n\u001b[1;32m   1271\u001b[0m                 \u001b[0;32mreturn\u001b[0m \u001b[0m_values_from_object\u001b[0m\u001b[0;34m(\u001b[0m\u001b[0mindexer\u001b[0m\u001b[0;34m)\u001b[0m\u001b[0;34m\u001b[0m\u001b[0m\n",
      "\u001b[0;31mKeyError\u001b[0m: \"['Alpha-1-Microglobulin (A1Micro) (ug/ml)'\\n 'Alpha-2-Macroglobulin (A2Macro) (mg/mL)'\\n 'Alpha-1-Antichymotrypsin (AACT) (ug/ml)'\\n 'Alpha-1-Antitrypsin (AAT) (mg/mL)'\\n 'Angiotensin-Converting Enzyme (ACE) (ng/ml)' 'Adiponectin (ug/mL)'\\n 'Alpha-Fetoprotein (AFP) (ng/mL)' 'Agouti-Related Protein (AGRP) (pg/mL)'\\n 'Angiopoietin-2 (ANG-2) (ng/mL)' 'Angiotensinogen (ng/mL)'\\n 'Apolipoprotein A-I (Apo A-I) (mg/mL)'\\n 'Apolipoprotein A-II (Apo A-II) (ng/ml)'\\n 'Apolipoprotein A-IV (Apo A-IV) (ug/ml)'\\n 'Apolipoprotein B (Apo B) (ug/ml)' 'Apolipoprotein C-I (Apo C-I) (ng/ml)'\\n 'Apolipoprotein C-III (Apo C-III) (ug/mL)'\\n 'Apolipoprotein D (Apo D) (ug/ml)' 'Apolipoprotein E (Apo E) (ug/ml)'\\n 'Apolipoprotein H (Apo H) (ug/mL)'\\n 'AXL Receptor Tyrosine Kinase (AXL) (ng/mL)'\\n 'Beta-2-Microglobulin (B2M) (ug/mL)'\\n 'Brain-Derived Neurotrophic Factor (BDNF) (ng/mL)'\\n 'B Lymphocyte Chemoattractant (BLC) (pg/ml)'\\n 'Bone Morphogenetic Protein 6 (BMP-6) (ng/mL)'\\n 'Brain Natriuretic Peptide  (BNP) (pg/ml)' 'Betacellulin (BTC) (pg/mL)'\\n 'Complement C3 (C3) (mg/mL)' 'Cancer Antigen 19-9 (CA-19-9) (U/mL)'\\n 'Calcitonin (pg/mL)' 'CD 40 antigen (CD40) (ng/mL)'\\n 'CD40 Ligand (CD40-L) (ng/mL)' 'CD5 (CD5L) (ng/ml)'\\n 'Carcinoembryonic Antigen (CEA) (ng/mL)' 'Chromogranin-A (CgA) (ng/mL)'\\n 'Creatine Kinase-MB (CK-MB) (ng/mL)' 'Clusterin (CLU) (ug/ml)'\\n 'Ciliary Neurotrophic Factor (CNTF) (pg/mL)'\\n 'Complement Factor H (ug/ml)' 'Cortisol (Cortisol) (ng/ml)'\\n 'C-peptide (ng/ml)' 'C-Reactive Protein (CRP) (ug/mL)'\\n 'Cystatin-C (ng/ml)' 'Epidermal Growth Factor (EGF) (pg/mL)'\\n 'Epidermal Growth Factor Receptor (EGFR) (ng/mL)'\\n 'Epithelial-Derived Neutrophil-Activating (ng/mL)' 'Eotaxin-1 (pg/mL)'\\n 'Eotaxin-3 (pg/mL)' 'E-Selectin (ng/mL)'\\n 'Fatty Acid-Binding Protein- heart  (FABP (ng/mL)' 'Factor VII (ng/mL)'\\n 'FASLG Receptor (FAS) (ng/mL)' 'Fas Ligand (FasL) (pg/mL)'\\n 'Fetuin-A (ug/ml)' 'Fibroblast Growth Factor 4 (FGF-4) (pg/mL)'\\n 'Fibrinogen (mg/mL)' 'Ferritin (FRTN) (ng/mL)'\\n 'Follicle-Stimulating Hormone (FSH) (mIU/mL)'\\n 'Growth Hormone (GH) (ng/mL)'\\n 'Growth-Regulated alpha protein (GRO-alph (pg/mL)'\\n 'Glutathione S-Transferase alpha (GST-alp (ng/ml)' 'Haptoglobin (mg/mL)'\\n 'Heparin-Binding EGF-Like Growth Factor ( (pg/mL)'\\n 'Chemokine CC-4 (HCC-4) (ng/mL)' 'Hepatocyte Growth Factor (HGF) (ng/mL)'\\n 'T Lymphocyte-Secreted Protein I-309 (I-3 (pg/mL)'\\n 'Intercellular Adhesion Molecule 1 (ICAM- (ng/mL)'\\n 'Immunoglobulin A (IgA) (mg/mL)' 'Immunoglobulin E (IgE) (ng/mL)'\\n 'Insulin-like Growth Factor-Binding Prote (ng/mL)'\\n 'Immunoglobulin M (IGM) (mg/mL)' 'Interleukin-13 (IL-13) (pg/mL)'\\n 'Interleukin-16 (IL-16) (pg/mL)' 'Interleukin-18 (IL-18) (pg/mL)'\\n 'Interleukin-3 (IL-3) (ng/mL)' 'Interleukin-6 receptor (IL-6r) (ng/mL)'\\n 'Interleukin-8 (IL-8) (pg/mL)' 'Insulin (uIU/mL)'\\n 'Interferon gamma Induced Protein 10 (IP- (pg/ml)'\\n 'Kidney Injury Molecule-1  (KIM-1) (ng/ml)' 'Leptin (ng/mL)'\\n 'Luteinizing Hormone  (LH) (mIU/mL)' 'Apolipoprotein(a) (Lp(a)) (ug/mL)'\\n 'Monocyte Chemotactic Protein 1 (MCP-1) (pg/mL)'\\n 'Monocyte Chemotactic Protein 2 (MCP-2) (pg/ml)'\\n 'Monocyte Chemotactic Protein 3 (MCP-3) (pg/mL)'\\n 'Monocyte Chemotactic Protein 4 (MCP-4) (pg/ml)'\\n 'Macrophage Colony-Stimulating Factor 1 ( (ng/mL)'\\n 'Macrophage-Derived Chemokine (MDC) (pg/mL)'\\n 'Macrophage Migration Inhibitory Factor ( (ng/mL)'\\n 'Monokine Induced by Gamma Interferon (MI (pg/ml)'\\n 'Macrophage Inflammatory Protein-1 alpha (pg/mL)'\\n 'Macrophage Inflammatory Protein-1 beta ( (pg/mL)'\\n 'Macrophage Inflammatory Protein-3 alpha (pg/ml)'\\n 'Matrix Metalloproteinase-1 (MMP-1) (ng/ml)'\\n 'Matrix Metalloproteinase-10 (MMP-10) (ng/ml)'\\n 'Matrix Metalloproteinase-2 (MMP-2) (ng/mL)'\\n 'Matrix Metalloproteinase-7 (MMP-7) (ng/ml)'\\n 'Matrix Metalloproteinase-9 (MMP-9) (ng/mL)'\\n 'Matrix Metalloproteinase-9- total (MMP-9 (ng/ml)'\\n 'Myeloid Progenitor Inhibitory Factor 1 ( (ng/mL)'\\n 'Myeloperoxidase (MPO) (ng/mL)' 'Myoglobin (ng/mL)'\\n 'Neutrophil Gelatinase-Associated Lipocal (ng/ml)'\\n 'Neuronal Cell Adhesion Molecule (Nr-CAM) (ng/mL)' 'Osteopontin (ng/ml)'\\n 'Plasminogen Activator Inhibitor 1 (PAI-1 (ng/mL)'\\n 'Prostatic Acid Phosphatase (PAP) (ng/mL)'\\n 'Pregnancy-Associated Plasma Protein A (P (mIU/mL)'\\n 'Pulmonary and Activation-Regulated Chemo (ng/mL)'\\n 'Platelet-Derived Growth Factor BB (PDGF- (pg/ml)'\\n 'Placenta Growth Factor (PLGF) (pg/ml)'\\n 'Pancreatic Polypeptide (PPP) (pg/ml)' 'Prolactin (PRL) (ng/ml)'\\n 'Proinsulin- Intact (pM)' 'Proinsulin- Total (pM)'\\n 'Peptide YY (PYY) (pg/mL)'\\n 'Receptor for advanced glycosylation end (ng/mL)'\\n 'T-Cell-Specific Protein RANTES (RANTES) (ng/mL)' 'Resistin (ng/ml)'\\n 'Serum Amyloid P-Component (SAP) (ug/mL)'\\n 'Stem Cell Factor (SCF) (pg/mL)'\\n 'Serum Glutamic Oxaloacetic Transaminase (ug/mL)'\\n 'Sex Hormone-Binding Globulin (SHBG) (nmol/L)'\\n 'Superoxide Dismutase 1- Soluble (SOD-1) (ng/mL)' 'Sortilin (ng/mL)'\\n 'Thyroxine-Binding Globulin (TBG) (ug/mL)'\\n 'Thymus-Expressed Chemokine (TECK) (ng/mL)' 'Testosterone- Total (ng/ml)'\\n 'Trefoil Factor 3 (TFF3) (ug/ml)'\\n 'Tamm-Horsfall Urinary Glycoprotein (THP) (ug/ml)'\\n 'Thrombospondin-1 (ng/mL)'\\n 'Tissue Inhibitor of Metalloproteinases 1 (ng/mL)'\\n 'Thrombomodulin (TM) (ng/ml)' 'Tenascin-C (TN-C) (ng/mL)'\\n 'Tumor Necrosis Factor alpha (TNF-alpha) (pg/mL)'\\n 'Tumor Necrosis Factor Receptor-Like 2 (T (ng/mL)'\\n 'Thrombopoietin (ng/mL)'\\n 'TNF-Related Apoptosis-Inducing Ligand Re (ng/mL)'\\n 'Serotransferrin (Transferrin) (mg/dl)'\\n 'Thyroid-Stimulating Hormone  (TSH) (uIU/mL)'\\n 'Transthyretin (TTR) (mg/dl)'\\n 'Vascular Cell Adhesion Molecule-1 (VCAM- (ng/mL)'\\n 'Vascular Endothelial Growth Factor (VEGF (pg/mL)' 'Vitronectin (ug/ml)'\\n 'Vitamin K-Dependent Protein S (VKDPS) (ug/ml)'\\n 'von Willebrand Factor (vWF) (ug/mL)' 'HCAMPLAS' 'AB40' 'AB42'\\n 'PLASMA_NFL' 'Alanine' 'Arginine' 'Asparagine' 'Aspartic Acid'\\n 'Citrulline' 'Glutamine' 'Glutamic Acid' 'Glycine' 'Isoleucine' 'Lysine'\\n 'Methionine' 'Ornithine' 'Phenylalanine' 'Proline' 'Serine' 'Threonine'\\n 'Tryptophan' 'Tyrosine' 'Valine' 'Kynurenine' 'Sarcosine'\\n 'trans isomer of 4-hydroxyproline '] not in index\""
     ]
    }
   ],
   "source": [
    "from sklearn.cluster import KMeans\n",
    "# array where the number of times a cluster is dissolved (Jaccard coeficient < stab_limit)\n",
    "n_diss = np.zeros(clusters)\n",
    "niterations=100\n",
    "# array of arrays where all the coefficients obtained will be stored.\n",
    "j_coeff = np.zeros((clusters,niterations))\n",
    "# Base labels\n",
    "for i in range(niterations):\n",
    "    # Subsample\n",
    "    boot_data = covariate_data.sample(n=len(covariate_data), replace=True)\n",
    "    # Compute it\n",
    "    y_it, S, F, ydata, alpha = compute_cimlr(\n",
    "       np.array(boot_data[cov_names]), clusters)\n",
    "    # y_it = np.random.randint(1,clusters+1, size=len(boot_data))\n",
    "    # km = KMeans(n_clusters=clusters, random_state = rd_seed).fit(boot_data[cov_names])\n",
    "    # y_it = km.labels_ + 1\n",
    "    # Assign clusters\n",
    "    for c in range(1, clusters+1):\n",
    "        # For each of the original clusters\n",
    "        # And that PTID is included in PTID\n",
    "        cond = (c_data.C.values == c)\n",
    "        set_b = c_data[cond].PTID.values\n",
    "        set_b = set_b[np.in1d(set_b, boot_data.PTID.values)]\n",
    "        max_js = 0.0\n",
    "        for k in range(1, clusters+1):\n",
    "            # Create new set of clusters\n",
    "            cond = (y_it == k)\n",
    "            set_it = boot_data[cond].PTID.values\n",
    "            # set_it = set_it[np.in1d(set_it, boot_data.PTID.values)]\n",
    "            # compute jaccard score between base assignation and given cluster\n",
    "            inter = set([x for x in set_b if x in set_it])\n",
    "            union = set(list(set_b) + list(set_it))\n",
    "            js = float(len(inter) / len(union))\n",
    "            # If larger, get it\n",
    "            if js > max_js:\n",
    "                max_js = js\n",
    "        # If it dissolves, we want to record it\n",
    "        if max_js < stab_limit:\n",
    "            n_diss[c-1] += 1\n",
    "        # Save jaccard scores\n",
    "        j_coeff[c-1,i] = max_js\n",
    "    \n",
    "print('Computation finished')\n",
    "for c in range(1,clusters+1):\n",
    "    print('Cluster ' + str(c) + ': ' + str(np.mean(j_coeff[c-1,:])) + \" Jaccard score.\")\n",
    "    print(\"It got dissolved \" + str(n_diss[c-1]) + \", \" + str((n_diss[c-1]/niterations)* 100) + \"% of the time.\")\n"
   ]
  },
  {
   "cell_type": "markdown",
   "metadata": {},
   "source": [
    "Now do the same procedure, but with synthetic data. This way, we can directly compare with data that is well separated."
   ]
  },
  {
   "cell_type": "code",
   "execution_count": 52,
   "metadata": {},
   "outputs": [
    {
     "name": "stdout",
     "output_type": "stream",
     "text": [
      "(82, 172)\n",
      "(82, 172)\n",
      "(82, 172)\n",
      "(77, 172)\n",
      "(82, 172)\n",
      "(61, 172)\n",
      "(82, 172)\n",
      "(78, 172)\n",
      "(298, 172)\n"
     ]
    }
   ],
   "source": [
    "## Create synthetic data of the same size\n",
    "n_samples = []\n",
    "for c in range(0, clusters):\n",
    "    n_samples.append(len(c_data[c_data.C.values == c]))\n",
    "\n",
    "max_samples = max(n_samples)\n",
    "\n",
    "from sklearn.datasets import make_blobs\n",
    "# Create a blob for each cluster with the corresponding number of samples\n",
    "X, y = make_blobs(n_samples=max_samples*clusters, n_features = len(cov_names), centers = clusters, cluster_std=20.0)\n",
    "# For each cluster, select only as many elements as members of the cluster\n",
    "synth_X = []\n",
    "synth_y = []\n",
    "for c in range(0, clusters):\n",
    "    curr_items = X[y==c]\n",
    "    print(curr_items.shape)\n",
    "    curr_items = curr_items[:n_samples[c],:]\n",
    "    print(curr_items.shape)\n",
    "    synth_X.append(curr_items)\n",
    "    synth_y += ([c+1] * n_samples[c])\n",
    "\n",
    "synth_X = np.concatenate((synth_X[0],synth_X[1],synth_X[2],synth_X[3]))\n",
    "synth_data = pd.DataFrame(synth_X)\n",
    "print(synth_data.shape)\n",
    "synth_y = np.array(synth_y)"
   ]
  },
  {
   "cell_type": "code",
   "execution_count": 56,
   "metadata": {},
   "outputs": [
    {
     "name": "stdout",
     "output_type": "stream",
     "text": [
      "Computation finished\n",
      "Cluster 1: 0.8872770970202504 Jaccard score.\n",
      "It got dissolved 0.0, 0.0% of the time.\n",
      "Cluster 2: 0.7662575160688367 Jaccard score.\n",
      "It got dissolved 1.0, 20.0% of the time.\n",
      "Cluster 3: 0.8624996280315429 Jaccard score.\n",
      "It got dissolved 0.0, 0.0% of the time.\n",
      "Cluster 4: 0.7616256355242588 Jaccard score.\n",
      "It got dissolved 0.0, 0.0% of the time.\n"
     ]
    }
   ],
   "source": [
    "from sklearn.cluster import KMeans\n",
    "# array where the number of times a cluster is dissolved (Jaccard coeficient < stab_limit)\n",
    "n_diss = np.zeros(clusters)\n",
    "niterations=5\n",
    "# array of arrays where all the coefficients obtained will be stored.\n",
    "j_coeff = np.zeros((clusters,niterations))\n",
    "# Base labels\n",
    "for i in range(niterations):\n",
    "    # Subsample\n",
    "    boot_data = synth_data.sample(n=len(synth_data), replace=True)\n",
    "    # Compute it\n",
    "    # y_it, S, F, ydata, alpha = compute_cimlr(\n",
    "    #   np.array(boot_data), clusters)\n",
    "    # y_it = np.random.randint(1,clusters+1, size=len(boot_data))\n",
    "    km = KMeans(n_clusters=clusters, random_state = rd_seed).fit(boot_data)\n",
    "    y_it = km.labels_ + 1\n",
    "    # Assign clusters\n",
    "    for c in range(1, clusters+1):\n",
    "        # For each of the original clusters\n",
    "        # And that PTID is included in PTID\n",
    "        cond = (synth_y == c)\n",
    "        set_b = synth_data[cond].index.values\n",
    "        set_b = set_b[np.in1d(set_b, boot_data.index.values)]\n",
    "        max_js = 0.0\n",
    "        for k in range(1, clusters+1):\n",
    "            # Create new set of clusters\n",
    "            cond = (y_it == k)\n",
    "            set_it = boot_data[cond].index.values\n",
    "            # set_it = set_it[np.in1d(set_it, boot_data.PTID.values)]\n",
    "            # compute jaccard score between base assignation and given cluster\n",
    "            inter = set([x for x in set_b if x in set_it])\n",
    "            union = set(list(set_b) + list(set_it))\n",
    "            js = float(len(inter) / len(union))\n",
    "            # If larger, get it\n",
    "            if js > max_js:\n",
    "                max_js = js\n",
    "        # If it dissolves, we want to record it\n",
    "        if max_js < stab_limit:\n",
    "            n_diss[c-1] += 1\n",
    "        # Save jaccard scores\n",
    "        j_coeff[c-1,i] = max_js\n",
    "    \n",
    "print('Computation finished')\n",
    "for c in range(1,clusters+1):\n",
    "    print('Cluster ' + str(c) + ': ' + str(np.mean(j_coeff[c-1,:])) + \" Jaccard score.\")\n",
    "    print(\"It got dissolved \" + str(n_diss[c-1]) + \", \" + str((n_diss[c-1]/niterations)* 100) + \"% of the time.\")\n"
   ]
  },
  {
   "cell_type": "code",
   "execution_count": 51,
   "metadata": {},
   "outputs": [
    {
     "ename": "SyntaxError",
     "evalue": "invalid syntax (<ipython-input-51-8dd583973a0d>, line 1)",
     "output_type": "error",
     "traceback": [
      "\u001b[0;36m  File \u001b[0;32m\"<ipython-input-51-8dd583973a0d>\"\u001b[0;36m, line \u001b[0;32m1\u001b[0m\n\u001b[0;31m    Computation finished\u001b[0m\n\u001b[0m                       ^\u001b[0m\n\u001b[0;31mSyntaxError\u001b[0m\u001b[0;31m:\u001b[0m invalid syntax\n"
     ]
    }
   ],
   "source": [
    "Computation finished\n",
    "Cluster 1: 0.23410747106399282 Jaccard score.\n",
    "It got dissolved 5.0, 100.0% of the time.\n",
    "Cluster 2: 0.21395057141481763 Jaccard score.\n",
    "It got dissolved 5.0, 100.0% of the time.\n",
    "Cluster 3: 0.23569497274249546 Jaccard score.\n",
    "It got dissolved 5.0, 100.0% of the time.\n",
    "Cluster 4: 0.253058868116535 Jaccard score.\n",
    "It got dissolved 5.0, 100.0% of the time.\n"
   ]
  },
  {
   "cell_type": "code",
   "execution_count": null,
   "metadata": {},
   "outputs": [],
   "source": []
  }
 ],
 "metadata": {
  "kernelspec": {
   "display_name": "Python 3",
   "language": "python",
   "name": "python3"
  },
  "language_info": {
   "codemirror_mode": {
    "name": "ipython",
    "version": 3
   },
   "file_extension": ".py",
   "mimetype": "text/x-python",
   "name": "python",
   "nbconvert_exporter": "python",
   "pygments_lexer": "ipython3",
   "version": "3.6.4"
  }
 },
 "nbformat": 4,
 "nbformat_minor": 2
}
